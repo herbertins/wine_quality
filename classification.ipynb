{
  "cells": [
    {
      "cell_type": "markdown",
      "metadata": {
        "id": "m0-mk879IKYD"
      },
      "source": [
        "# Algoritmos de Inteligência Artificial para classificação"
      ]
    },
    {
      "cell_type": "markdown",
      "metadata": {
        "id": "0UjLd1TnyHOU"
      },
      "source": [
        "### Etapas para Criar um Modelo de Classificação Eficiente\n",
        "\n",
        "Criar um modelo de classificação eficiente envolve uma série de etapas organizadas, desde a coleta de dados até a implantação e monitoramento do modelo. Abaixo estão as etapas detalhadas:\n",
        "\n",
        "\n",
        "#### **1. Definição do Problema**\n",
        "Antes de começar a modelagem, é essencial entender:\n",
        "*\t**Objetivo:** O que você quer prever? (Ex.: classificar vinhos)\n",
        "*\t**Variável alvo:** Qual é a variável de saída? (Ex.: bom ou ruim)\n",
        "*\t**Métrica de sucesso:** Como você medirá a performance? (Ex.: Acurácia, F1-Score, ROC-AUC)\n",
        "\n",
        "#### **2. Coleta de Dados**\n",
        "*\t**Fontes de dados:** Bases públicas, bancos de dados internos, APIs, etc.\n",
        "*\t**Qualidade dos dados:** Certifique-se de que os dados sejam representativos e relevantes para o problema.\n",
        "\n",
        "#### **3. Exploração e Análise de Dados**\n",
        "* **Análise estatística:** Média, mediana, desvio padrão das variáveis.\n",
        "* **Visualização:** Gráficos de dispersão, histogramas, mapas de calor de correlação.\n",
        "* **Identificação de padrões**: Verifique relações entre variáveis e a variável alvo.\n",
        "* Detecção de outliers e valores ausentes.\n",
        "\n",
        "#### **4. Pré-processamento dos Dados**\n",
        "* **Tratamento de valores ausentes:** Imputação, remoção ou substituição.\n",
        "* **Remoção ou tratamento de outliers:** Para evitar distorção no modelo\n",
        "* **Codificação de variáveis categóricas:**\n",
        "  * Label Encoding\n",
        "  * One-Hot Encoding\n",
        "* **Escalonamento de variáveis numéricas:**\n",
        "  * StandardScaler (para dados com distribuição normal)\n",
        "  * MinMaxScaler (para escalonamento entre 0 e 1)\n",
        "* **Divisão dos dados:**\n",
        " * Treinamento e teste (ex.: 70% treino, 30% teste)\n",
        " * Validação cruzada para melhor generalização.\n",
        "\n",
        "#### **5. Seleção de Recursos**\n",
        "* **Importância das variáveis:** Identificar quais variáveis mais contribuem para a previsão.\n",
        "* **Métodos utilizados:**\n",
        "  * Correlação\n",
        "  * Métodos de árvore (ex.: Random Forest Feature Importance)\n",
        "  * Seleção recursiva de atributos (RFE)\n",
        "\n",
        "#### **6. Escolha do Modelo**\n",
        "Selecione algoritmos com base no problema e nas características dos dados:\n",
        "* **Modelos simples:**\n",
        "  * Regressão Logística\n",
        "  * K-Nearest Neighbors (KNN)\n",
        "* **Modelos mais complexos:**\n",
        "  * Random Forest\n",
        "  * Gradient Boosting Machines (GBM)\n",
        "  * Support Vector Machines (SVM)\n",
        "  * Redes Neurais (para grandes conjuntos de dados)\n",
        "\n",
        "#### **7. Treinamento do Modelo**\n",
        "* Utilize os dados de treinamento para ajustar o modelo.\n",
        "* **Ajuste hiperparâmetros com métodos como:**\n",
        "  * Grid Search\n",
        "  * Random Search\n",
        "  * Bayesian Optimization\n",
        "\n",
        "#### **8. Avaliação do Modelo**\n",
        "* **Métricas comuns para classificação:**\n",
        "  * Acurácia\n",
        "  * Precisão, Recall e F1-Score\n",
        "  * Curva ROC e AUC\n",
        "  * Matriz de confusão\n",
        "* **Validação cruzada:**\n",
        " * Reduz viés e melhora a generalização.\n",
        "\n",
        "#### **9. Ajuste e Otimização**\n",
        "* **Overfitting:** Se o modelo performa bem no treino mas mal no teste, considere regularização ou simplificação do modelo.\n",
        "* **Underfitting:** Se o modelo performa mal em ambos, tente modelos mais complexos ou adicione mais recursos.\n",
        "* **Feature Engineering:** Crie novas variáveis a partir das existentes para melhorar o desempenho.\n"
      ]
    },
    {
      "cell_type": "markdown",
      "metadata": {
        "id": "rLVmz8s3BTXo"
      },
      "source": [
        "### 1. Definição do Problema\n",
        "\n",
        "Projeto de Ciência de Dados: Classificação da Qualidade de Vinhos Verdes Portugueses\n",
        "\n",
        "Este projeto tem como objetivo aplicar e validar conhecimentos em algoritmos supervisionados de machine learning, com foco na classificação da qualidade de vinhos verdes portugueses, utilizando dados reais provenientes do artigo de Cortez et al. (2009). A base de dados, disponível no Kaggle, contempla informações físico-químicas de vinhos das variantes branca e tinta, além de uma variável de qualidade sensorial atribuída a cada amostra."
      ]
    },
    {
      "cell_type": "markdown",
      "metadata": {
        "id": "k6rcqXRHBuB4"
      },
      "source": [
        "#### 2. Coleta de Dados\n",
        "\n"
      ]
    },
    {
      "cell_type": "code",
      "execution_count": 69,
      "metadata": {
        "colab": {
          "base_uri": "https://localhost:8080/",
          "height": 206
        },
        "id": "j3Dm9qB2EwiY",
        "outputId": "ee7b806d-7826-437c-fd5d-446c76621901"
      },
      "outputs": [
        {
          "data": {
            "text/html": [
              "<div>\n",
              "<style scoped>\n",
              "    .dataframe tbody tr th:only-of-type {\n",
              "        vertical-align: middle;\n",
              "    }\n",
              "\n",
              "    .dataframe tbody tr th {\n",
              "        vertical-align: top;\n",
              "    }\n",
              "\n",
              "    .dataframe thead th {\n",
              "        text-align: right;\n",
              "    }\n",
              "</style>\n",
              "<table border=\"1\" class=\"dataframe\">\n",
              "  <thead>\n",
              "    <tr style=\"text-align: right;\">\n",
              "      <th></th>\n",
              "      <th>type</th>\n",
              "      <th>fixed acidity</th>\n",
              "      <th>volatile acidity</th>\n",
              "      <th>citric acid</th>\n",
              "      <th>residual sugar</th>\n",
              "      <th>chlorides</th>\n",
              "      <th>free sulfur dioxide</th>\n",
              "      <th>total sulfur dioxide</th>\n",
              "      <th>density</th>\n",
              "      <th>pH</th>\n",
              "      <th>sulphates</th>\n",
              "      <th>alcohol</th>\n",
              "      <th>quality</th>\n",
              "    </tr>\n",
              "  </thead>\n",
              "  <tbody>\n",
              "    <tr>\n",
              "      <th>0</th>\n",
              "      <td>white</td>\n",
              "      <td>7.0</td>\n",
              "      <td>0.27</td>\n",
              "      <td>0.36</td>\n",
              "      <td>20.7</td>\n",
              "      <td>0.045</td>\n",
              "      <td>45.0</td>\n",
              "      <td>170.0</td>\n",
              "      <td>1.0010</td>\n",
              "      <td>3.00</td>\n",
              "      <td>0.45</td>\n",
              "      <td>8.8</td>\n",
              "      <td>6</td>\n",
              "    </tr>\n",
              "    <tr>\n",
              "      <th>1</th>\n",
              "      <td>white</td>\n",
              "      <td>6.3</td>\n",
              "      <td>0.30</td>\n",
              "      <td>0.34</td>\n",
              "      <td>1.6</td>\n",
              "      <td>0.049</td>\n",
              "      <td>14.0</td>\n",
              "      <td>132.0</td>\n",
              "      <td>0.9940</td>\n",
              "      <td>3.30</td>\n",
              "      <td>0.49</td>\n",
              "      <td>9.5</td>\n",
              "      <td>6</td>\n",
              "    </tr>\n",
              "    <tr>\n",
              "      <th>2</th>\n",
              "      <td>white</td>\n",
              "      <td>8.1</td>\n",
              "      <td>0.28</td>\n",
              "      <td>0.40</td>\n",
              "      <td>6.9</td>\n",
              "      <td>0.050</td>\n",
              "      <td>30.0</td>\n",
              "      <td>97.0</td>\n",
              "      <td>0.9951</td>\n",
              "      <td>3.26</td>\n",
              "      <td>0.44</td>\n",
              "      <td>10.1</td>\n",
              "      <td>6</td>\n",
              "    </tr>\n",
              "    <tr>\n",
              "      <th>3</th>\n",
              "      <td>white</td>\n",
              "      <td>7.2</td>\n",
              "      <td>0.23</td>\n",
              "      <td>0.32</td>\n",
              "      <td>8.5</td>\n",
              "      <td>0.058</td>\n",
              "      <td>47.0</td>\n",
              "      <td>186.0</td>\n",
              "      <td>0.9956</td>\n",
              "      <td>3.19</td>\n",
              "      <td>0.40</td>\n",
              "      <td>9.9</td>\n",
              "      <td>6</td>\n",
              "    </tr>\n",
              "    <tr>\n",
              "      <th>4</th>\n",
              "      <td>white</td>\n",
              "      <td>7.2</td>\n",
              "      <td>0.23</td>\n",
              "      <td>0.32</td>\n",
              "      <td>8.5</td>\n",
              "      <td>0.058</td>\n",
              "      <td>47.0</td>\n",
              "      <td>186.0</td>\n",
              "      <td>0.9956</td>\n",
              "      <td>3.19</td>\n",
              "      <td>0.40</td>\n",
              "      <td>9.9</td>\n",
              "      <td>6</td>\n",
              "    </tr>\n",
              "  </tbody>\n",
              "</table>\n",
              "</div>"
            ],
            "text/plain": [
              "    type  fixed acidity  volatile acidity  citric acid  residual sugar  \\\n",
              "0  white            7.0              0.27         0.36            20.7   \n",
              "1  white            6.3              0.30         0.34             1.6   \n",
              "2  white            8.1              0.28         0.40             6.9   \n",
              "3  white            7.2              0.23         0.32             8.5   \n",
              "4  white            7.2              0.23         0.32             8.5   \n",
              "\n",
              "   chlorides  free sulfur dioxide  total sulfur dioxide  density    pH  \\\n",
              "0      0.045                 45.0                 170.0   1.0010  3.00   \n",
              "1      0.049                 14.0                 132.0   0.9940  3.30   \n",
              "2      0.050                 30.0                  97.0   0.9951  3.26   \n",
              "3      0.058                 47.0                 186.0   0.9956  3.19   \n",
              "4      0.058                 47.0                 186.0   0.9956  3.19   \n",
              "\n",
              "   sulphates  alcohol  quality  \n",
              "0       0.45      8.8        6  \n",
              "1       0.49      9.5        6  \n",
              "2       0.44     10.1        6  \n",
              "3       0.40      9.9        6  \n",
              "4       0.40      9.9        6  "
            ]
          },
          "execution_count": 69,
          "metadata": {},
          "output_type": "execute_result"
        }
      ],
      "source": [
        "import pandas as pd\n",
        "from sklearn.model_selection import StratifiedKFold, cross_val_score\n",
        "from sklearn.linear_model import LogisticRegression\n",
        "from sklearn.tree import DecisionTreeClassifier\n",
        "from sklearn.svm import SVC\n",
        "from sklearn.metrics import make_scorer, accuracy_score, precision_score, recall_score, f1_score\n",
        "from sklearn.preprocessing import StandardScaler\n",
        "import seaborn as sns\n",
        "import warnings\n",
        "\n",
        "from IPython.display import Markdown, display\n",
        "\n",
        "\n",
        "# Configurar estilo dos gráficos\n",
        "sns.set_style(\"whitegrid\")\n",
        "\n",
        "# Exibir todas as colunas do DataFrame\n",
        "pd.set_option('display.max_columns', None)\n",
        "\n",
        "# Ignorar warnings\n",
        "warnings.filterwarnings('ignore')\n",
        "\n",
        "data = pd.read_csv('dataset/winequalityN.csv')\n",
        "data.head()"
      ]
    },
    {
      "cell_type": "markdown",
      "metadata": {
        "id": "4pJSgRMkw4wl"
      },
      "source": [
        "### 3. Exploração e Análise de dados"
      ]
    },
    {
      "cell_type": "code",
      "execution_count": 70,
      "metadata": {
        "colab": {
          "base_uri": "https://localhost:8080/",
          "height": 178
        },
        "id": "aQbMsIF7yQWQ",
        "outputId": "20f141f8-cf95-4fbe-a823-3bb42bbb3b50"
      },
      "outputs": [
        {
          "data": {
            "text/plain": [
              "type\n",
              "white    0.753886\n",
              "red      0.246114\n",
              "Name: proportion, dtype: float64"
            ]
          },
          "execution_count": 70,
          "metadata": {},
          "output_type": "execute_result"
        }
      ],
      "source": [
        "data['type'].value_counts(normalize=True)"
      ]
    },
    {
      "cell_type": "code",
      "execution_count": 71,
      "metadata": {
        "colab": {
          "base_uri": "https://localhost:8080/",
          "height": 553
        },
        "id": "aTve1KrLy9Gl",
        "outputId": "31f8f546-eafe-4cc5-865e-58a95af69c1d"
      },
      "outputs": [
        {
          "name": "stdout",
          "output_type": "stream",
          "text": [
            "<class 'pandas.core.frame.DataFrame'>\n",
            "RangeIndex: 6497 entries, 0 to 6496\n",
            "Data columns (total 13 columns):\n",
            " #   Column                Non-Null Count  Dtype  \n",
            "---  ------                --------------  -----  \n",
            " 0   type                  6497 non-null   object \n",
            " 1   fixed acidity         6487 non-null   float64\n",
            " 2   volatile acidity      6489 non-null   float64\n",
            " 3   citric acid           6494 non-null   float64\n",
            " 4   residual sugar        6495 non-null   float64\n",
            " 5   chlorides             6495 non-null   float64\n",
            " 6   free sulfur dioxide   6497 non-null   float64\n",
            " 7   total sulfur dioxide  6497 non-null   float64\n",
            " 8   density               6497 non-null   float64\n",
            " 9   pH                    6488 non-null   float64\n",
            " 10  sulphates             6493 non-null   float64\n",
            " 11  alcohol               6497 non-null   float64\n",
            " 12  quality               6497 non-null   int64  \n",
            "dtypes: float64(11), int64(1), object(1)\n",
            "memory usage: 660.0+ KB\n"
          ]
        },
        {
          "data": {
            "text/html": [
              "<div>\n",
              "<style scoped>\n",
              "    .dataframe tbody tr th:only-of-type {\n",
              "        vertical-align: middle;\n",
              "    }\n",
              "\n",
              "    .dataframe tbody tr th {\n",
              "        vertical-align: top;\n",
              "    }\n",
              "\n",
              "    .dataframe thead th {\n",
              "        text-align: right;\n",
              "    }\n",
              "</style>\n",
              "<table border=\"1\" class=\"dataframe\">\n",
              "  <thead>\n",
              "    <tr style=\"text-align: right;\">\n",
              "      <th></th>\n",
              "      <th>type</th>\n",
              "      <th>fixed acidity</th>\n",
              "      <th>volatile acidity</th>\n",
              "      <th>citric acid</th>\n",
              "      <th>residual sugar</th>\n",
              "      <th>chlorides</th>\n",
              "      <th>free sulfur dioxide</th>\n",
              "      <th>total sulfur dioxide</th>\n",
              "      <th>density</th>\n",
              "      <th>pH</th>\n",
              "      <th>sulphates</th>\n",
              "      <th>alcohol</th>\n",
              "      <th>quality</th>\n",
              "    </tr>\n",
              "  </thead>\n",
              "  <tbody>\n",
              "    <tr>\n",
              "      <th>0</th>\n",
              "      <td>white</td>\n",
              "      <td>7.0</td>\n",
              "      <td>0.27</td>\n",
              "      <td>0.36</td>\n",
              "      <td>20.7</td>\n",
              "      <td>0.045</td>\n",
              "      <td>45.0</td>\n",
              "      <td>170.0</td>\n",
              "      <td>1.0010</td>\n",
              "      <td>3.00</td>\n",
              "      <td>0.45</td>\n",
              "      <td>8.8</td>\n",
              "      <td>6</td>\n",
              "    </tr>\n",
              "    <tr>\n",
              "      <th>1</th>\n",
              "      <td>white</td>\n",
              "      <td>6.3</td>\n",
              "      <td>0.30</td>\n",
              "      <td>0.34</td>\n",
              "      <td>1.6</td>\n",
              "      <td>0.049</td>\n",
              "      <td>14.0</td>\n",
              "      <td>132.0</td>\n",
              "      <td>0.9940</td>\n",
              "      <td>3.30</td>\n",
              "      <td>0.49</td>\n",
              "      <td>9.5</td>\n",
              "      <td>6</td>\n",
              "    </tr>\n",
              "    <tr>\n",
              "      <th>2</th>\n",
              "      <td>white</td>\n",
              "      <td>8.1</td>\n",
              "      <td>0.28</td>\n",
              "      <td>0.40</td>\n",
              "      <td>6.9</td>\n",
              "      <td>0.050</td>\n",
              "      <td>30.0</td>\n",
              "      <td>97.0</td>\n",
              "      <td>0.9951</td>\n",
              "      <td>3.26</td>\n",
              "      <td>0.44</td>\n",
              "      <td>10.1</td>\n",
              "      <td>6</td>\n",
              "    </tr>\n",
              "    <tr>\n",
              "      <th>3</th>\n",
              "      <td>white</td>\n",
              "      <td>7.2</td>\n",
              "      <td>0.23</td>\n",
              "      <td>0.32</td>\n",
              "      <td>8.5</td>\n",
              "      <td>0.058</td>\n",
              "      <td>47.0</td>\n",
              "      <td>186.0</td>\n",
              "      <td>0.9956</td>\n",
              "      <td>3.19</td>\n",
              "      <td>0.40</td>\n",
              "      <td>9.9</td>\n",
              "      <td>6</td>\n",
              "    </tr>\n",
              "    <tr>\n",
              "      <th>4</th>\n",
              "      <td>white</td>\n",
              "      <td>7.2</td>\n",
              "      <td>0.23</td>\n",
              "      <td>0.32</td>\n",
              "      <td>8.5</td>\n",
              "      <td>0.058</td>\n",
              "      <td>47.0</td>\n",
              "      <td>186.0</td>\n",
              "      <td>0.9956</td>\n",
              "      <td>3.19</td>\n",
              "      <td>0.40</td>\n",
              "      <td>9.9</td>\n",
              "      <td>6</td>\n",
              "    </tr>\n",
              "  </tbody>\n",
              "</table>\n",
              "</div>"
            ],
            "text/plain": [
              "    type  fixed acidity  volatile acidity  citric acid  residual sugar  \\\n",
              "0  white            7.0              0.27         0.36            20.7   \n",
              "1  white            6.3              0.30         0.34             1.6   \n",
              "2  white            8.1              0.28         0.40             6.9   \n",
              "3  white            7.2              0.23         0.32             8.5   \n",
              "4  white            7.2              0.23         0.32             8.5   \n",
              "\n",
              "   chlorides  free sulfur dioxide  total sulfur dioxide  density    pH  \\\n",
              "0      0.045                 45.0                 170.0   1.0010  3.00   \n",
              "1      0.049                 14.0                 132.0   0.9940  3.30   \n",
              "2      0.050                 30.0                  97.0   0.9951  3.26   \n",
              "3      0.058                 47.0                 186.0   0.9956  3.19   \n",
              "4      0.058                 47.0                 186.0   0.9956  3.19   \n",
              "\n",
              "   sulphates  alcohol  quality  \n",
              "0       0.45      8.8        6  \n",
              "1       0.49      9.5        6  \n",
              "2       0.44     10.1        6  \n",
              "3       0.40      9.9        6  \n",
              "4       0.40      9.9        6  "
            ]
          },
          "execution_count": 71,
          "metadata": {},
          "output_type": "execute_result"
        }
      ],
      "source": [
        "data.info()\n",
        "data.head()"
      ]
    },
    {
      "cell_type": "code",
      "execution_count": 72,
      "metadata": {
        "colab": {
          "base_uri": "https://localhost:8080/",
          "height": 492
        },
        "id": "gMf2RB1Vzs6O",
        "outputId": "3c600792-76e9-4e32-9695-26ebf740fa2b"
      },
      "outputs": [
        {
          "data": {
            "text/plain": [
              "type                     0\n",
              "fixed acidity           10\n",
              "volatile acidity         8\n",
              "citric acid              3\n",
              "residual sugar           2\n",
              "chlorides                2\n",
              "free sulfur dioxide      0\n",
              "total sulfur dioxide     0\n",
              "density                  0\n",
              "pH                       9\n",
              "sulphates                4\n",
              "alcohol                  0\n",
              "quality                  0\n",
              "dtype: int64"
            ]
          },
          "execution_count": 72,
          "metadata": {},
          "output_type": "execute_result"
        }
      ],
      "source": [
        "# verificando dados nulos\n",
        "data.isna().sum()"
      ]
    },
    {
      "cell_type": "code",
      "execution_count": 73,
      "metadata": {
        "colab": {
          "base_uri": "https://localhost:8080/",
          "height": 358
        },
        "id": "IItNsgINUMH3",
        "outputId": "b8eec861-0af5-4544-8bee-df750808cf19"
      },
      "outputs": [
        {
          "data": {
            "text/markdown": [
              "### 📊 Estatísticas Descritivas do Dataset"
            ],
            "text/plain": [
              "<IPython.core.display.Markdown object>"
            ]
          },
          "metadata": {},
          "output_type": "display_data"
        },
        {
          "data": {
            "text/html": [
              "<div>\n",
              "<style scoped>\n",
              "    .dataframe tbody tr th:only-of-type {\n",
              "        vertical-align: middle;\n",
              "    }\n",
              "\n",
              "    .dataframe tbody tr th {\n",
              "        vertical-align: top;\n",
              "    }\n",
              "\n",
              "    .dataframe thead th {\n",
              "        text-align: right;\n",
              "    }\n",
              "</style>\n",
              "<table border=\"1\" class=\"dataframe\">\n",
              "  <thead>\n",
              "    <tr style=\"text-align: right;\">\n",
              "      <th></th>\n",
              "      <th>fixed acidity</th>\n",
              "      <th>volatile acidity</th>\n",
              "      <th>citric acid</th>\n",
              "      <th>residual sugar</th>\n",
              "      <th>chlorides</th>\n",
              "      <th>free sulfur dioxide</th>\n",
              "      <th>total sulfur dioxide</th>\n",
              "      <th>density</th>\n",
              "      <th>pH</th>\n",
              "      <th>sulphates</th>\n",
              "      <th>alcohol</th>\n",
              "      <th>quality</th>\n",
              "    </tr>\n",
              "  </thead>\n",
              "  <tbody>\n",
              "    <tr>\n",
              "      <th>count</th>\n",
              "      <td>6487.000000</td>\n",
              "      <td>6489.000000</td>\n",
              "      <td>6494.000000</td>\n",
              "      <td>6495.000000</td>\n",
              "      <td>6495.000000</td>\n",
              "      <td>6497.000000</td>\n",
              "      <td>6497.000000</td>\n",
              "      <td>6497.000000</td>\n",
              "      <td>6488.000000</td>\n",
              "      <td>6493.000000</td>\n",
              "      <td>6497.000000</td>\n",
              "      <td>6497.000000</td>\n",
              "    </tr>\n",
              "    <tr>\n",
              "      <th>mean</th>\n",
              "      <td>7.216579</td>\n",
              "      <td>0.339691</td>\n",
              "      <td>0.318722</td>\n",
              "      <td>5.444326</td>\n",
              "      <td>0.056042</td>\n",
              "      <td>30.525319</td>\n",
              "      <td>115.744574</td>\n",
              "      <td>0.994697</td>\n",
              "      <td>3.218395</td>\n",
              "      <td>0.531215</td>\n",
              "      <td>10.491801</td>\n",
              "      <td>5.818378</td>\n",
              "    </tr>\n",
              "    <tr>\n",
              "      <th>std</th>\n",
              "      <td>1.296750</td>\n",
              "      <td>0.164649</td>\n",
              "      <td>0.145265</td>\n",
              "      <td>4.758125</td>\n",
              "      <td>0.035036</td>\n",
              "      <td>17.749400</td>\n",
              "      <td>56.521855</td>\n",
              "      <td>0.002999</td>\n",
              "      <td>0.160748</td>\n",
              "      <td>0.148814</td>\n",
              "      <td>1.192712</td>\n",
              "      <td>0.873255</td>\n",
              "    </tr>\n",
              "    <tr>\n",
              "      <th>min</th>\n",
              "      <td>3.800000</td>\n",
              "      <td>0.080000</td>\n",
              "      <td>0.000000</td>\n",
              "      <td>0.600000</td>\n",
              "      <td>0.009000</td>\n",
              "      <td>1.000000</td>\n",
              "      <td>6.000000</td>\n",
              "      <td>0.987110</td>\n",
              "      <td>2.720000</td>\n",
              "      <td>0.220000</td>\n",
              "      <td>8.000000</td>\n",
              "      <td>3.000000</td>\n",
              "    </tr>\n",
              "    <tr>\n",
              "      <th>25%</th>\n",
              "      <td>6.400000</td>\n",
              "      <td>0.230000</td>\n",
              "      <td>0.250000</td>\n",
              "      <td>1.800000</td>\n",
              "      <td>0.038000</td>\n",
              "      <td>17.000000</td>\n",
              "      <td>77.000000</td>\n",
              "      <td>0.992340</td>\n",
              "      <td>3.110000</td>\n",
              "      <td>0.430000</td>\n",
              "      <td>9.500000</td>\n",
              "      <td>5.000000</td>\n",
              "    </tr>\n",
              "    <tr>\n",
              "      <th>50%</th>\n",
              "      <td>7.000000</td>\n",
              "      <td>0.290000</td>\n",
              "      <td>0.310000</td>\n",
              "      <td>3.000000</td>\n",
              "      <td>0.047000</td>\n",
              "      <td>29.000000</td>\n",
              "      <td>118.000000</td>\n",
              "      <td>0.994890</td>\n",
              "      <td>3.210000</td>\n",
              "      <td>0.510000</td>\n",
              "      <td>10.300000</td>\n",
              "      <td>6.000000</td>\n",
              "    </tr>\n",
              "    <tr>\n",
              "      <th>75%</th>\n",
              "      <td>7.700000</td>\n",
              "      <td>0.400000</td>\n",
              "      <td>0.390000</td>\n",
              "      <td>8.100000</td>\n",
              "      <td>0.065000</td>\n",
              "      <td>41.000000</td>\n",
              "      <td>156.000000</td>\n",
              "      <td>0.996990</td>\n",
              "      <td>3.320000</td>\n",
              "      <td>0.600000</td>\n",
              "      <td>11.300000</td>\n",
              "      <td>6.000000</td>\n",
              "    </tr>\n",
              "    <tr>\n",
              "      <th>max</th>\n",
              "      <td>15.900000</td>\n",
              "      <td>1.580000</td>\n",
              "      <td>1.660000</td>\n",
              "      <td>65.800000</td>\n",
              "      <td>0.611000</td>\n",
              "      <td>289.000000</td>\n",
              "      <td>440.000000</td>\n",
              "      <td>1.038980</td>\n",
              "      <td>4.010000</td>\n",
              "      <td>2.000000</td>\n",
              "      <td>14.900000</td>\n",
              "      <td>9.000000</td>\n",
              "    </tr>\n",
              "  </tbody>\n",
              "</table>\n",
              "</div>"
            ],
            "text/plain": [
              "       fixed acidity  volatile acidity  citric acid  residual sugar  \\\n",
              "count    6487.000000       6489.000000  6494.000000     6495.000000   \n",
              "mean        7.216579          0.339691     0.318722        5.444326   \n",
              "std         1.296750          0.164649     0.145265        4.758125   \n",
              "min         3.800000          0.080000     0.000000        0.600000   \n",
              "25%         6.400000          0.230000     0.250000        1.800000   \n",
              "50%         7.000000          0.290000     0.310000        3.000000   \n",
              "75%         7.700000          0.400000     0.390000        8.100000   \n",
              "max        15.900000          1.580000     1.660000       65.800000   \n",
              "\n",
              "         chlorides  free sulfur dioxide  total sulfur dioxide      density  \\\n",
              "count  6495.000000          6497.000000           6497.000000  6497.000000   \n",
              "mean      0.056042            30.525319            115.744574     0.994697   \n",
              "std       0.035036            17.749400             56.521855     0.002999   \n",
              "min       0.009000             1.000000              6.000000     0.987110   \n",
              "25%       0.038000            17.000000             77.000000     0.992340   \n",
              "50%       0.047000            29.000000            118.000000     0.994890   \n",
              "75%       0.065000            41.000000            156.000000     0.996990   \n",
              "max       0.611000           289.000000            440.000000     1.038980   \n",
              "\n",
              "                pH    sulphates      alcohol      quality  \n",
              "count  6488.000000  6493.000000  6497.000000  6497.000000  \n",
              "mean      3.218395     0.531215    10.491801     5.818378  \n",
              "std       0.160748     0.148814     1.192712     0.873255  \n",
              "min       2.720000     0.220000     8.000000     3.000000  \n",
              "25%       3.110000     0.430000     9.500000     5.000000  \n",
              "50%       3.210000     0.510000    10.300000     6.000000  \n",
              "75%       3.320000     0.600000    11.300000     6.000000  \n",
              "max       4.010000     2.000000    14.900000     9.000000  "
            ]
          },
          "execution_count": 73,
          "metadata": {},
          "output_type": "execute_result"
        }
      ],
      "source": [
        "display(Markdown(\"### 📊 Estatísticas Descritivas do Dataset\"))\n",
        "\n",
        "description = data.describe()\n",
        "description"
      ]
    },
    {
      "cell_type": "code",
      "execution_count": 74,
      "metadata": {
        "colab": {
          "base_uri": "https://localhost:8080/"
        },
        "id": "s0d3wLXMlNSY",
        "outputId": "b741ae6b-1c37-4c49-f04b-720781c72929"
      },
      "outputs": [
        {
          "name": "stdout",
          "output_type": "stream",
          "text": [
            "| Nome                      | Tipo         | Média      | Desvio Padrão  |\n",
            "|---------------------------|--------------|------------|----------------|\n",
            "| type                      | Categórica   | N/A        | N/A            |\n",
            "| fixed acidity             | Contínua     | 7.22       | 1.3            |\n",
            "| volatile acidity          | Contínua     | 0.34       | 0.16           |\n",
            "| citric acid               | Contínua     | 0.32       | 0.15           |\n",
            "| residual sugar            | Contínua     | 5.44       | 4.76           |\n",
            "| chlorides                 | Contínua     | 0.06       | 0.04           |\n",
            "| free sulfur dioxide       | Contínua     | 30.53      | 17.75          |\n",
            "| total sulfur dioxide      | Contínua     | 115.74     | 56.52          |\n",
            "| density                   | Contínua     | 0.99       | 0.0            |\n",
            "| pH                        | Contínua     | 3.22       | 0.16           |\n",
            "| sulphates                 | Contínua     | 0.53       | 0.15           |\n",
            "| alcohol                   | Contínua     | 10.49      | 1.19           |\n",
            "| quality                   | Discreta     | 5.82       | 0.87           |\n",
            "| opinion                   | Categórica   | N/A        | N/A            |\n",
            "\n"
          ]
        }
      ],
      "source": [
        "description.columns = description.columns.str.strip()\n",
        "feature_types = {\n",
        "    'type': 'Categórica',\n",
        "    'fixed acidity': 'Contínua',\n",
        "    'volatile acidity': 'Contínua',\n",
        "    'citric acid': 'Contínua',\n",
        "    'residual sugar': 'Contínua',\n",
        "    'chlorides': 'Contínua',\n",
        "    'free sulfur dioxide': 'Contínua',\n",
        "    'total sulfur dioxide': 'Contínua',\n",
        "    'density': 'Contínua',\n",
        "    'pH': 'Contínua',\n",
        "    'sulphates': 'Contínua',\n",
        "    'alcohol': 'Contínua',\n",
        "    'quality': 'Discreta',\n",
        "    'opinion': 'Categórica'\n",
        "}\n",
        "\n",
        "def find_collumns(col_name, columns):\n",
        "    col_name_clean = col_name.strip().lower().replace(\" \", \"\")\n",
        "    for col in columns:\n",
        "        if col.strip().lower().replace(\" \", \"\") == col_name_clean:\n",
        "            return col\n",
        "    return None\n",
        "\n",
        "col_widths = {\n",
        "    \"Nome\": 25,\n",
        "    \"Tipo\": 12,\n",
        "    \"Média\": 10,\n",
        "    \"Desvio Padrão\": 14\n",
        "}\n",
        "\n",
        "def format_col(text, width):\n",
        "    return f\"{str(text):<{width}}\"\n",
        "\n",
        "dataFrame = (\n",
        "    f\"| {format_col('Nome', col_widths['Nome'])} \"\n",
        "    f\"| {format_col('Tipo', col_widths['Tipo'])} \"\n",
        "    f\"| {format_col('Média', col_widths['Média'])} \"\n",
        "    f\"| {format_col('Desvio Padrão', col_widths['Desvio Padrão'])} |\\n\"\n",
        ")\n",
        "\n",
        "# Linha separadora\n",
        "dataFrame += (\n",
        "    f\"|{'-' * (col_widths['Nome'] + 2)}\"\n",
        "    f\"|{'-' * (col_widths['Tipo'] + 2)}\"\n",
        "    f\"|{'-' * (col_widths['Média'] + 2)}\"\n",
        "    f\"|{'-' * (col_widths['Desvio Padrão'] + 2)}|\\n\"\n",
        ")\n",
        "\n",
        "for feature, f_type in feature_types.items():\n",
        "    column = find_collumns(feature, description.columns)\n",
        "\n",
        "    if column:\n",
        "        media = round(description.loc['mean', column], 2)\n",
        "        desvio = round(description.loc['std', column], 2)\n",
        "    else:\n",
        "        media = desvio = \"N/A\"\n",
        "\n",
        "    if f_type == \"Categórica\":\n",
        "        media = desvio = \"N/A\"\n",
        "\n",
        "\n",
        "    dataFrame += (\n",
        "\n",
        "\n",
        "\n",
        "        f\"| {format_col(feature, col_widths['Nome'])} \"\n",
        "        f\"| {format_col(f_type, col_widths['Tipo'])} \"\n",
        "        f\"| {format_col(media, col_widths['Média'])} \"\n",
        "        f\"| {format_col(desvio, col_widths['Desvio Padrão'])} |\\n\"\n",
        "    )\n",
        "\n",
        "print(dataFrame)\n"
      ]
    },
    {
      "cell_type": "markdown",
      "metadata": {
        "id": "Ctlb_ExzSUx6"
      },
      "source": [
        "### 4. Pré Processamento"
      ]
    },
    {
      "cell_type": "code",
      "execution_count": 75,
      "metadata": {
        "id": "re2UBoSYTJOJ"
      },
      "outputs": [],
      "source": [
        "#Tratamento de dados para processamento\n",
        "wineWhite_df = data[data['type'] == 'white']\n",
        "wineWhite_df['opinion'] = data['quality'].apply(lambda x: 0 if x<=5 else 1)\n",
        "\n",
        "x = wineWhite_df.drop(columns=['quality', 'opinion'])\n",
        "x = pd.get_dummies(x, columns=['type'], drop_first=True)\n",
        "y = wineWhite_df['opinion']"
      ]
    },
    {
      "cell_type": "markdown",
      "metadata": {
        "id": "FNDTsJbw2gf8"
      },
      "source": [
        "Como existe alguns dados nulos vamos, fazer inferencia desses dados utilizando a média da feature"
      ]
    },
    {
      "cell_type": "code",
      "execution_count": 76,
      "metadata": {
        "colab": {
          "base_uri": "https://localhost:8080/"
        },
        "id": "lW3tNOFd2qDU",
        "outputId": "871cbba0-1f4c-450c-a71d-0af220f77650"
      },
      "outputs": [
        {
          "name": "stdout",
          "output_type": "stream",
          "text": [
            "Possui valores nulos antes da imputação? Sim\n",
            "Possui valores nulos após a imputação? Não\n"
          ]
        }
      ],
      "source": [
        "from sklearn.impute import SimpleImputer\n",
        "import numpy as np\n",
        "\n",
        "has_nulls_before = x.isnull().values.any()\n",
        "print(f\"Possui valores nulos antes da imputação? {'Sim' if has_nulls_before else 'Não'}\")\n",
        "\n",
        "imputer = SimpleImputer(strategy='mean')\n",
        "x = imputer.fit_transform(x)\n",
        "\n",
        "# Verificar se ainda existem valores nulos após a imputação\n",
        "has_nulls_after = np.isnan(x).any()\n",
        "print(f\"Possui valores nulos após a imputação? {'Sim' if has_nulls_after else 'Não'}\")\n"
      ]
    },
    {
      "cell_type": "code",
      "execution_count": 77,
      "metadata": {
        "id": "VzmNMNhsJq76"
      },
      "outputs": [],
      "source": [
        "from sklearn.model_selection import train_test_split\n",
        "\n",
        "#Divisão dos dados em testes e treino  30% teste 70% treino\n",
        "X_train, X_test, y_train, y_test = train_test_split(x, y, test_size=0.3, random_state=42)\n",
        "kfold = StratifiedKFold(n_splits=10, shuffle=True, random_state=42)\n"
      ]
    },
    {
      "cell_type": "markdown",
      "metadata": {
        "id": "brqN-WSgZgsQ"
      },
      "source": [
        "## b. Regressão logistica"
      ]
    },
    {
      "cell_type": "code",
      "execution_count": 78,
      "metadata": {
        "id": "wOnSVFdXW5EP"
      },
      "outputs": [],
      "source": [
        "scaler = StandardScaler()\n",
        "X_scaled = scaler.fit_transform(x)\n"
      ]
    },
    {
      "cell_type": "code",
      "execution_count": 79,
      "metadata": {
        "id": "uuKRm-phYt6I"
      },
      "outputs": [],
      "source": [
        "scoring_metrics = {\n",
        "    'accuracy': make_scorer(accuracy_score),\n",
        "    'precision': make_scorer(precision_score),\n",
        "    'recall': make_scorer(recall_score),\n",
        "    'f1': make_scorer(f1_score)\n",
        "}"
      ]
    },
    {
      "cell_type": "markdown",
      "metadata": {
        "id": "19caIVusTaDZ"
      },
      "source": [
        "### Treinamento do modelo"
      ]
    },
    {
      "cell_type": "code",
      "execution_count": 80,
      "metadata": {
        "colab": {
          "base_uri": "https://localhost:8080/"
        },
        "id": "7O5_zlYKY3NT",
        "outputId": "0eac333b-dcf6-4b26-f2ad-f6091e5bdfd2"
      },
      "outputs": [
        {
          "name": "stdout",
          "output_type": "stream",
          "text": [
            "Accuracy - Média: 0.7495 | Desvio Padrão: 0.0166\n",
            "Precision - Média: 0.7752 | Desvio Padrão: 0.0154\n",
            "Recall - Média: 0.8788 | Desvio Padrão: 0.0183\n",
            "F1 - Média: 0.8235 | Desvio Padrão: 0.0112\n"
          ]
        }
      ],
      "source": [
        "modelRegLog = LogisticRegression(max_iter=1000)\n",
        "\n",
        "modelRegLog.fit(X_train, y_train)\n",
        "\n",
        "results = {\n",
        "    metric: cross_val_score(modelRegLog, X_scaled, y, cv=kfold, scoring=scoring_metrics[metric])\n",
        "    for metric in scoring_metrics\n",
        "}\n",
        "\n",
        "metrics_summary = {\n",
        "    metric: {\n",
        "        'mean': round(results[metric].mean(), 4),\n",
        "        'std': round(results[metric].std(), 4)\n",
        "    }\n",
        "    for metric in results\n",
        "}\n",
        "\n",
        "for metric, values in metrics_summary.items():\n",
        "    print(f\"{metric.capitalize()} - Média: {values['mean']} | Desvio Padrão: {values['std']}\")"
      ]
    },
    {
      "cell_type": "markdown",
      "metadata": {
        "id": "RPQ7nbZ1fIRS"
      },
      "source": [
        "**Arvore de decisão**"
      ]
    },
    {
      "cell_type": "code",
      "execution_count": 81,
      "metadata": {
        "colab": {
          "base_uri": "https://localhost:8080/"
        },
        "id": "zGOc40EUajiO",
        "outputId": "b18933cb-2009-4d00-a844-9f7ed48dd7d0"
      },
      "outputs": [
        {
          "name": "stdout",
          "output_type": "stream",
          "text": [
            "Accuracy - Média: 0.7967 | Desvio Padrão: 0.0166\n",
            "Precision - Média: 0.8521 | Desvio Padrão: 0.0153\n",
            "Recall - Média: 0.8404 | Desvio Padrão: 0.0155\n",
            "F1 - Média: 0.8461 | Desvio Padrão: 0.0125\n"
          ]
        }
      ],
      "source": [
        "modelTree = DecisionTreeClassifier(random_state=42)\n",
        "kfold = StratifiedKFold(n_splits=10, shuffle=True, random_state=0)\n",
        "\n",
        "modelTree.fit(X_train, y_train)\n",
        "\n",
        "results = {\n",
        "    metric: cross_val_score(modelTree, X_scaled, y, cv=kfold, scoring=scoring_metrics[metric])\n",
        "    for metric in scoring_metrics\n",
        "}\n",
        "\n",
        "metrics_summary = {\n",
        "    metric: {\n",
        "        'mean': round(results[metric].mean(), 4),\n",
        "        'std': round(results[metric].std(), 4)\n",
        "    }\n",
        "    for metric in results\n",
        "}\n",
        "\n",
        "for metric, values in metrics_summary.items():\n",
        "    print(f\"{metric.capitalize()} - Média: {values['mean']} | Desvio Padrão: {values['std']}\")"
      ]
    },
    {
      "cell_type": "markdown",
      "metadata": {
        "id": "gP9LO8YofQiP"
      },
      "source": [
        "**SVM**"
      ]
    },
    {
      "cell_type": "code",
      "execution_count": 82,
      "metadata": {
        "colab": {
          "base_uri": "https://localhost:8080/"
        },
        "id": "5mfRxumbfPTg",
        "outputId": "4cca1c57-cbef-435d-d50d-b08359ff4dae"
      },
      "outputs": [
        {
          "name": "stdout",
          "output_type": "stream",
          "text": [
            "Accuracy - Média: 0.7856 | Desvio Padrão: 0.0139\n",
            "Precision - Média: 0.8113 | Desvio Padrão: 0.0146\n",
            "Recall - Média: 0.8837 | Desvio Padrão: 0.0137\n",
            "F1 - Média: 0.8458 | Desvio Padrão: 0.0093\n"
          ]
        }
      ],
      "source": [
        "modelSVM = SVC(kernel='rbf', C=1.0, gamma='scale', random_state=0)\n",
        "kfold = StratifiedKFold(n_splits=10, shuffle=True, random_state=0)\n",
        "\n",
        "modelSVM.fit(X_train, y_train)\n",
        "\n",
        "results = {\n",
        "    metric: cross_val_score(modelSVM, X_scaled, y, cv=kfold, scoring=scoring_metrics[metric])\n",
        "    for metric in scoring_metrics\n",
        "}\n",
        "\n",
        "metrics_summary = {\n",
        "    metric: {\n",
        "        'mean': round(results[metric].mean(), 4),\n",
        "        'std': round(results[metric].std(), 4)\n",
        "    }\n",
        "    for metric in results\n",
        "}\n",
        "\n",
        "for metric, values in metrics_summary.items():\n",
        "    print(f\"{metric.capitalize()} - Média: {values['mean']} | Desvio Padrão: {values['std']}\")"
      ]
    },
    {
      "cell_type": "code",
      "execution_count": 83,
      "metadata": {
        "id": "klfDfJpxDZJN"
      },
      "outputs": [],
      "source": [
        "models = {\n",
        "    \"Logistic Regression\": modelRegLog,\n",
        "    \"Decision Tree\": modelTree,\n",
        "    \"Support Vector Machine\": modelSVM\n",
        "}"
      ]
    },
    {
      "cell_type": "code",
      "execution_count": 84,
      "metadata": {
        "colab": {
          "base_uri": "https://localhost:8080/",
          "height": 723
        },
        "id": "CgR5kLgZEK5w",
        "outputId": "a9b8312e-0869-4085-f5cf-c6caf5ff4f1b"
      },
      "outputs": [
        {
          "data": {
            "image/png": "[encoded data removed]",
            "text/plain": [
              "<Figure size 1000x800 with 1 Axes>"
            ]
          },
          "metadata": {},
          "output_type": "display_data"
        }
      ],
      "source": [
        "from sklearn.metrics import roc_curve, auc\n",
        "import matplotlib.pyplot as plt\n",
        "\n",
        "plt.figure(figsize=(10, 8))\n",
        "\n",
        "aucs = []\n",
        "\n",
        "# Iterando sobre os modelos para calcular e plotar as curvas ROC\n",
        "for name, model in models.items():\n",
        "    if hasattr(model, \"predict_proba\"):\n",
        "        y_scores = model.predict_proba(X_test)[:, 1]\n",
        "    else:\n",
        "        y_scores = model.decision_function(X_test)\n",
        "    fpr, tpr, _ = roc_curve(y_test, y_scores)\n",
        "    roc_auc = auc(fpr, tpr)\n",
        "    aucs.append(roc_auc)\n",
        "    plt.plot(fpr, tpr, lw=2, label=f'{name} (AUC = {roc_auc:.3f})')\n",
        "\n",
        "# Linha de referência para um classificador aleatório\n",
        "plt.plot([0, 1], [0, 1], color='black', lw=2, linestyle='--')\n",
        "\n",
        "# Escolha o melhor modelo com base na AUC média\n",
        "melhor_modelo = max(models, key=lambda model: np.mean([auc for auc in aucs]))\n",
        "# Configurações do gráfico\n",
        "plt.title('Curvas ROC dos Modelos', fontsize=14)\n",
        "plt.xlabel('Taxa de Falsos Positivos (FPR)', fontsize=12)\n",
        "plt.ylabel('Taxa de Verdadeiros Positivos (TPR)', fontsize=12)\n",
        "plt.legend(loc='lower right', fontsize=10)\n",
        "plt.grid(True)\n",
        "plt.show()"
      ]
    },
    {
      "cell_type": "code",
      "execution_count": null,
      "metadata": {
        "id": "Wm8cft9mJE1R"
      },
      "outputs": [],
      "source": []
    },
    {
      "cell_type": "code",
      "execution_count": null,
      "metadata": {
        "colab": {
          "base_uri": "https://localhost:8080/"
        },
        "id": "W2OQr-31Ig0E",
        "outputId": "56989e19-9705-4567-dba1-e63c6ceb867e"
      },
      "outputs": [
        {
          "ename": "FileNotFoundError",
          "evalue": "[Errno 2] No such file or directory: 'dataset\\\\winequalityN.csv'",
          "output_type": "error",
          "traceback": [
            "\u001b[0;31m---------------------------------------------------------------------------\u001b[0m",
            "\u001b[0;31mFileNotFoundError\u001b[0m                         Traceback (most recent call last)",
            "Cell \u001b[0;32mIn[88], line 1\u001b[0m\n\u001b[0;32m----> 1\u001b[0m data \u001b[38;5;241m=\u001b[39m \u001b[43mpd\u001b[49m\u001b[38;5;241;43m.\u001b[39;49m\u001b[43mread_csv\u001b[49m\u001b[43m(\u001b[49m\u001b[38;5;124;43m'\u001b[39;49m\u001b[38;5;124;43mdataset\u001b[39;49m\u001b[38;5;124;43m\\\u001b[39;49m\u001b[38;5;124;43mwinequalityN.csv\u001b[39;49m\u001b[38;5;124;43m'\u001b[39;49m\u001b[43m)\u001b[49m\n\u001b[1;32m      3\u001b[0m wineRed_df \u001b[38;5;241m=\u001b[39m data[data[\u001b[38;5;124m'\u001b[39m\u001b[38;5;124mtype\u001b[39m\u001b[38;5;124m'\u001b[39m] \u001b[38;5;241m==\u001b[39m \u001b[38;5;124m'\u001b[39m\u001b[38;5;124mred\u001b[39m\u001b[38;5;124m'\u001b[39m]\u001b[38;5;241m.\u001b[39mcopy()\n\u001b[1;32m      4\u001b[0m wineRed_df[\u001b[38;5;124m'\u001b[39m\u001b[38;5;124mopinion\u001b[39m\u001b[38;5;124m'\u001b[39m] \u001b[38;5;241m=\u001b[39m wineRed_df[\u001b[38;5;124m'\u001b[39m\u001b[38;5;124mquality\u001b[39m\u001b[38;5;124m'\u001b[39m]\u001b[38;5;241m.\u001b[39mapply(\u001b[38;5;28;01mlambda\u001b[39;00m x: \u001b[38;5;241m0\u001b[39m \u001b[38;5;28;01mif\u001b[39;00m x \u001b[38;5;241m<\u001b[39m\u001b[38;5;241m=\u001b[39m \u001b[38;5;241m5\u001b[39m \u001b[38;5;28;01melse\u001b[39;00m \u001b[38;5;241m1\u001b[39m)\n",
            "File \u001b[0;32m/Library/Frameworks/Python.framework/Versions/3.11/lib/python3.11/site-packages/pandas/io/parsers/readers.py:1026\u001b[0m, in \u001b[0;36mread_csv\u001b[0;34m(filepath_or_buffer, sep, delimiter, header, names, index_col, usecols, dtype, engine, converters, true_values, false_values, skipinitialspace, skiprows, skipfooter, nrows, na_values, keep_default_na, na_filter, verbose, skip_blank_lines, parse_dates, infer_datetime_format, keep_date_col, date_parser, date_format, dayfirst, cache_dates, iterator, chunksize, compression, thousands, decimal, lineterminator, quotechar, quoting, doublequote, escapechar, comment, encoding, encoding_errors, dialect, on_bad_lines, delim_whitespace, low_memory, memory_map, float_precision, storage_options, dtype_backend)\u001b[0m\n\u001b[1;32m   1013\u001b[0m kwds_defaults \u001b[38;5;241m=\u001b[39m _refine_defaults_read(\n\u001b[1;32m   1014\u001b[0m     dialect,\n\u001b[1;32m   1015\u001b[0m     delimiter,\n\u001b[0;32m   (...)\u001b[0m\n\u001b[1;32m   1022\u001b[0m     dtype_backend\u001b[38;5;241m=\u001b[39mdtype_backend,\n\u001b[1;32m   1023\u001b[0m )\n\u001b[1;32m   1024\u001b[0m kwds\u001b[38;5;241m.\u001b[39mupdate(kwds_defaults)\n\u001b[0;32m-> 1026\u001b[0m \u001b[38;5;28;01mreturn\u001b[39;00m \u001b[43m_read\u001b[49m\u001b[43m(\u001b[49m\u001b[43mfilepath_or_buffer\u001b[49m\u001b[43m,\u001b[49m\u001b[43m \u001b[49m\u001b[43mkwds\u001b[49m\u001b[43m)\u001b[49m\n",
            "File \u001b[0;32m/Library/Frameworks/Python.framework/Versions/3.11/lib/python3.11/site-packages/pandas/io/parsers/readers.py:620\u001b[0m, in \u001b[0;36m_read\u001b[0;34m(filepath_or_buffer, kwds)\u001b[0m\n\u001b[1;32m    617\u001b[0m _validate_names(kwds\u001b[38;5;241m.\u001b[39mget(\u001b[38;5;124m\"\u001b[39m\u001b[38;5;124mnames\u001b[39m\u001b[38;5;124m\"\u001b[39m, \u001b[38;5;28;01mNone\u001b[39;00m))\n\u001b[1;32m    619\u001b[0m \u001b[38;5;66;03m# Create the parser.\u001b[39;00m\n\u001b[0;32m--> 620\u001b[0m parser \u001b[38;5;241m=\u001b[39m \u001b[43mTextFileReader\u001b[49m\u001b[43m(\u001b[49m\u001b[43mfilepath_or_buffer\u001b[49m\u001b[43m,\u001b[49m\u001b[43m \u001b[49m\u001b[38;5;241;43m*\u001b[39;49m\u001b[38;5;241;43m*\u001b[39;49m\u001b[43mkwds\u001b[49m\u001b[43m)\u001b[49m\n\u001b[1;32m    622\u001b[0m \u001b[38;5;28;01mif\u001b[39;00m chunksize \u001b[38;5;129;01mor\u001b[39;00m iterator:\n\u001b[1;32m    623\u001b[0m     \u001b[38;5;28;01mreturn\u001b[39;00m parser\n",
            "File \u001b[0;32m/Library/Frameworks/Python.framework/Versions/3.11/lib/python3.11/site-packages/pandas/io/parsers/readers.py:1620\u001b[0m, in \u001b[0;36mTextFileReader.__init__\u001b[0;34m(self, f, engine, **kwds)\u001b[0m\n\u001b[1;32m   1617\u001b[0m     \u001b[38;5;28mself\u001b[39m\u001b[38;5;241m.\u001b[39moptions[\u001b[38;5;124m\"\u001b[39m\u001b[38;5;124mhas_index_names\u001b[39m\u001b[38;5;124m\"\u001b[39m] \u001b[38;5;241m=\u001b[39m kwds[\u001b[38;5;124m\"\u001b[39m\u001b[38;5;124mhas_index_names\u001b[39m\u001b[38;5;124m\"\u001b[39m]\n\u001b[1;32m   1619\u001b[0m \u001b[38;5;28mself\u001b[39m\u001b[38;5;241m.\u001b[39mhandles: IOHandles \u001b[38;5;241m|\u001b[39m \u001b[38;5;28;01mNone\u001b[39;00m \u001b[38;5;241m=\u001b[39m \u001b[38;5;28;01mNone\u001b[39;00m\n\u001b[0;32m-> 1620\u001b[0m \u001b[38;5;28mself\u001b[39m\u001b[38;5;241m.\u001b[39m_engine \u001b[38;5;241m=\u001b[39m \u001b[38;5;28;43mself\u001b[39;49m\u001b[38;5;241;43m.\u001b[39;49m\u001b[43m_make_engine\u001b[49m\u001b[43m(\u001b[49m\u001b[43mf\u001b[49m\u001b[43m,\u001b[49m\u001b[43m \u001b[49m\u001b[38;5;28;43mself\u001b[39;49m\u001b[38;5;241;43m.\u001b[39;49m\u001b[43mengine\u001b[49m\u001b[43m)\u001b[49m\n",
            "File \u001b[0;32m/Library/Frameworks/Python.framework/Versions/3.11/lib/python3.11/site-packages/pandas/io/parsers/readers.py:1880\u001b[0m, in \u001b[0;36mTextFileReader._make_engine\u001b[0;34m(self, f, engine)\u001b[0m\n\u001b[1;32m   1878\u001b[0m     \u001b[38;5;28;01mif\u001b[39;00m \u001b[38;5;124m\"\u001b[39m\u001b[38;5;124mb\u001b[39m\u001b[38;5;124m\"\u001b[39m \u001b[38;5;129;01mnot\u001b[39;00m \u001b[38;5;129;01min\u001b[39;00m mode:\n\u001b[1;32m   1879\u001b[0m         mode \u001b[38;5;241m+\u001b[39m\u001b[38;5;241m=\u001b[39m \u001b[38;5;124m\"\u001b[39m\u001b[38;5;124mb\u001b[39m\u001b[38;5;124m\"\u001b[39m\n\u001b[0;32m-> 1880\u001b[0m \u001b[38;5;28mself\u001b[39m\u001b[38;5;241m.\u001b[39mhandles \u001b[38;5;241m=\u001b[39m \u001b[43mget_handle\u001b[49m\u001b[43m(\u001b[49m\n\u001b[1;32m   1881\u001b[0m \u001b[43m    \u001b[49m\u001b[43mf\u001b[49m\u001b[43m,\u001b[49m\n\u001b[1;32m   1882\u001b[0m \u001b[43m    \u001b[49m\u001b[43mmode\u001b[49m\u001b[43m,\u001b[49m\n\u001b[1;32m   1883\u001b[0m \u001b[43m    \u001b[49m\u001b[43mencoding\u001b[49m\u001b[38;5;241;43m=\u001b[39;49m\u001b[38;5;28;43mself\u001b[39;49m\u001b[38;5;241;43m.\u001b[39;49m\u001b[43moptions\u001b[49m\u001b[38;5;241;43m.\u001b[39;49m\u001b[43mget\u001b[49m\u001b[43m(\u001b[49m\u001b[38;5;124;43m\"\u001b[39;49m\u001b[38;5;124;43mencoding\u001b[39;49m\u001b[38;5;124;43m\"\u001b[39;49m\u001b[43m,\u001b[49m\u001b[43m \u001b[49m\u001b[38;5;28;43;01mNone\u001b[39;49;00m\u001b[43m)\u001b[49m\u001b[43m,\u001b[49m\n\u001b[1;32m   1884\u001b[0m \u001b[43m    \u001b[49m\u001b[43mcompression\u001b[49m\u001b[38;5;241;43m=\u001b[39;49m\u001b[38;5;28;43mself\u001b[39;49m\u001b[38;5;241;43m.\u001b[39;49m\u001b[43moptions\u001b[49m\u001b[38;5;241;43m.\u001b[39;49m\u001b[43mget\u001b[49m\u001b[43m(\u001b[49m\u001b[38;5;124;43m\"\u001b[39;49m\u001b[38;5;124;43mcompression\u001b[39;49m\u001b[38;5;124;43m\"\u001b[39;49m\u001b[43m,\u001b[49m\u001b[43m \u001b[49m\u001b[38;5;28;43;01mNone\u001b[39;49;00m\u001b[43m)\u001b[49m\u001b[43m,\u001b[49m\n\u001b[1;32m   1885\u001b[0m \u001b[43m    \u001b[49m\u001b[43mmemory_map\u001b[49m\u001b[38;5;241;43m=\u001b[39;49m\u001b[38;5;28;43mself\u001b[39;49m\u001b[38;5;241;43m.\u001b[39;49m\u001b[43moptions\u001b[49m\u001b[38;5;241;43m.\u001b[39;49m\u001b[43mget\u001b[49m\u001b[43m(\u001b[49m\u001b[38;5;124;43m\"\u001b[39;49m\u001b[38;5;124;43mmemory_map\u001b[39;49m\u001b[38;5;124;43m\"\u001b[39;49m\u001b[43m,\u001b[49m\u001b[43m \u001b[49m\u001b[38;5;28;43;01mFalse\u001b[39;49;00m\u001b[43m)\u001b[49m\u001b[43m,\u001b[49m\n\u001b[1;32m   1886\u001b[0m \u001b[43m    \u001b[49m\u001b[43mis_text\u001b[49m\u001b[38;5;241;43m=\u001b[39;49m\u001b[43mis_text\u001b[49m\u001b[43m,\u001b[49m\n\u001b[1;32m   1887\u001b[0m \u001b[43m    \u001b[49m\u001b[43merrors\u001b[49m\u001b[38;5;241;43m=\u001b[39;49m\u001b[38;5;28;43mself\u001b[39;49m\u001b[38;5;241;43m.\u001b[39;49m\u001b[43moptions\u001b[49m\u001b[38;5;241;43m.\u001b[39;49m\u001b[43mget\u001b[49m\u001b[43m(\u001b[49m\u001b[38;5;124;43m\"\u001b[39;49m\u001b[38;5;124;43mencoding_errors\u001b[39;49m\u001b[38;5;124;43m\"\u001b[39;49m\u001b[43m,\u001b[49m\u001b[43m \u001b[49m\u001b[38;5;124;43m\"\u001b[39;49m\u001b[38;5;124;43mstrict\u001b[39;49m\u001b[38;5;124;43m\"\u001b[39;49m\u001b[43m)\u001b[49m\u001b[43m,\u001b[49m\n\u001b[1;32m   1888\u001b[0m \u001b[43m    \u001b[49m\u001b[43mstorage_options\u001b[49m\u001b[38;5;241;43m=\u001b[39;49m\u001b[38;5;28;43mself\u001b[39;49m\u001b[38;5;241;43m.\u001b[39;49m\u001b[43moptions\u001b[49m\u001b[38;5;241;43m.\u001b[39;49m\u001b[43mget\u001b[49m\u001b[43m(\u001b[49m\u001b[38;5;124;43m\"\u001b[39;49m\u001b[38;5;124;43mstorage_options\u001b[39;49m\u001b[38;5;124;43m\"\u001b[39;49m\u001b[43m,\u001b[49m\u001b[43m \u001b[49m\u001b[38;5;28;43;01mNone\u001b[39;49;00m\u001b[43m)\u001b[49m\u001b[43m,\u001b[49m\n\u001b[1;32m   1889\u001b[0m \u001b[43m\u001b[49m\u001b[43m)\u001b[49m\n\u001b[1;32m   1890\u001b[0m \u001b[38;5;28;01massert\u001b[39;00m \u001b[38;5;28mself\u001b[39m\u001b[38;5;241m.\u001b[39mhandles \u001b[38;5;129;01mis\u001b[39;00m \u001b[38;5;129;01mnot\u001b[39;00m \u001b[38;5;28;01mNone\u001b[39;00m\n\u001b[1;32m   1891\u001b[0m f \u001b[38;5;241m=\u001b[39m \u001b[38;5;28mself\u001b[39m\u001b[38;5;241m.\u001b[39mhandles\u001b[38;5;241m.\u001b[39mhandle\n",
            "File \u001b[0;32m/Library/Frameworks/Python.framework/Versions/3.11/lib/python3.11/site-packages/pandas/io/common.py:873\u001b[0m, in \u001b[0;36mget_handle\u001b[0;34m(path_or_buf, mode, encoding, compression, memory_map, is_text, errors, storage_options)\u001b[0m\n\u001b[1;32m    868\u001b[0m \u001b[38;5;28;01melif\u001b[39;00m \u001b[38;5;28misinstance\u001b[39m(handle, \u001b[38;5;28mstr\u001b[39m):\n\u001b[1;32m    869\u001b[0m     \u001b[38;5;66;03m# Check whether the filename is to be opened in binary mode.\u001b[39;00m\n\u001b[1;32m    870\u001b[0m     \u001b[38;5;66;03m# Binary mode does not support 'encoding' and 'newline'.\u001b[39;00m\n\u001b[1;32m    871\u001b[0m     \u001b[38;5;28;01mif\u001b[39;00m ioargs\u001b[38;5;241m.\u001b[39mencoding \u001b[38;5;129;01mand\u001b[39;00m \u001b[38;5;124m\"\u001b[39m\u001b[38;5;124mb\u001b[39m\u001b[38;5;124m\"\u001b[39m \u001b[38;5;129;01mnot\u001b[39;00m \u001b[38;5;129;01min\u001b[39;00m ioargs\u001b[38;5;241m.\u001b[39mmode:\n\u001b[1;32m    872\u001b[0m         \u001b[38;5;66;03m# Encoding\u001b[39;00m\n\u001b[0;32m--> 873\u001b[0m         handle \u001b[38;5;241m=\u001b[39m \u001b[38;5;28mopen\u001b[39m(\n\u001b[1;32m    874\u001b[0m             handle,\n\u001b[1;32m    875\u001b[0m             ioargs\u001b[38;5;241m.\u001b[39mmode,\n\u001b[1;32m    876\u001b[0m             encoding\u001b[38;5;241m=\u001b[39mioargs\u001b[38;5;241m.\u001b[39mencoding,\n\u001b[1;32m    877\u001b[0m             errors\u001b[38;5;241m=\u001b[39merrors,\n\u001b[1;32m    878\u001b[0m             newline\u001b[38;5;241m=\u001b[39m\u001b[38;5;124m\"\u001b[39m\u001b[38;5;124m\"\u001b[39m,\n\u001b[1;32m    879\u001b[0m         )\n\u001b[1;32m    880\u001b[0m     \u001b[38;5;28;01melse\u001b[39;00m:\n\u001b[1;32m    881\u001b[0m         \u001b[38;5;66;03m# Binary mode\u001b[39;00m\n\u001b[1;32m    882\u001b[0m         handle \u001b[38;5;241m=\u001b[39m \u001b[38;5;28mopen\u001b[39m(handle, ioargs\u001b[38;5;241m.\u001b[39mmode)\n",
            "\u001b[0;31mFileNotFoundError\u001b[0m: [Errno 2] No such file or directory: 'dataset\\\\winequalityN.csv'"
          ]
        }
      ],
      "source": [
        "data = pd.read_csv('dataset/winequalityN.csv')\n",
        "\n",
        "wineRed_df = data[data['type'] == 'red'].copy()\n",
        "wineRed_df['opinion'] = wineRed_df['quality'].apply(lambda x: 0 if x <= 5 else 1)\n",
        "\n",
        "X = wineRed_df.drop(columns=['quality', 'opinion'])\n",
        "y = wineRed_df['opinion']\n",
        "\n",
        "X = pd.get_dummies(X, columns=['type'], drop_first=True)\n",
        "\n",
        "imputer = SimpleImputer(strategy='mean')\n",
        "X = imputer.fit_transform(X)\n",
        "\n",
        "X_train, X_test, y_train, y_test = train_test_split(X, y, test_size=0.3, random_state=42)\n",
        "\n",
        "if melhor_modelo == 'Logistic Regression':\n",
        "    y_pred_red = modelRegLog.predict(X_test)\n",
        "elif melhor_modelo == 'Decision Tree':\n",
        "    y_pred_red = modelTree.predict(y_test)\n",
        "else:\n",
        "    y_pred_red = modelSVM.predict(y_test)\n",
        "\n",
        "vinhos_bons = np.sum(y_pred_red)\n",
        "vinhos_ruins = len(y_pred_red) - vinhos_bons\n",
        "\n",
        "print(f\"Quantidade de vinhos bons: {vinhos_bons}\")\n",
        "print(f\"Quantidade de vinhos ruins: {vinhos_ruins}\")\n",
        "\n",
        "# Avaliando o desempenho do modelo\n",
        "accuracy_red = accuracy_score(y_test, y_pred_red)\n",
        "precision_red = precision_score(y_test, y_pred_red)\n",
        "recall_red = recall_score(y_test, y_pred_red)\n",
        "f1_red = f1_score(y_test, y_pred_red)\n",
        "\n",
        "# Exibindo as métricas de desempenho\n",
        "print(\"Desempenho do modelo nos dados de vinho tinto:\")\n",
        "print(f\"Acurácia: {accuracy_red:.4f}\")\n",
        "print(f\"Precisão: {precision_red:.4f}\")\n",
        "print(f\"Recall: {recall_red:.4f}\")\n",
        "print(f\"F1-Score: {f1_red:.4f}\")\n",
        "print(f\"AUC-ROC: {roc_auc:.4f}\")"
      ]
    }
  ],
  "metadata": {
    "colab": {
      "provenance": []
    },
    "kernelspec": {
      "display_name": "Python 3",
      "name": "python3"
    },
    "language_info": {
      "codemirror_mode": {
        "name": "ipython",
        "version": 3
      },
      "file_extension": ".py",
      "mimetype": "text/x-python",
      "name": "python",
      "nbconvert_exporter": "python",
      "pygments_lexer": "ipython3",
      "version": "3.11.2"
    }
  },
  "nbformat": 4,
  "nbformat_minor": 0
}
